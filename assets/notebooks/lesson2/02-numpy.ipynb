{
 "cells": [
  {
   "cell_type": "markdown",
   "id": "327a9f6a",
   "metadata": {},
   "source": [
    "## 2. NumPy 快速上手：数组与向量化计算\n",
    "\n",
    "本章，你将学到：\n",
    "- **ndarray 核心概念**：理解 NumPy 数组的 `shape`, `dtype`, 和 `axis`。\n",
    "- **数组的创建**: 掌握从列表、函数及特殊矩阵创建数组的方法。\n",
    "- **索引与切片**: 从基础索引到高级的布尔索引和花式索引。\n",
    "- **核心操作**: 学习广播、形状变换（`reshape`, `.T`, `newaxis`）、拼接、排序和矩阵乘法。\n",
    "- **常用计算**: 掌握向量化运算（ufuncs）、描述性统计、条件化赋值 (`np.where`) 和集合操作。\n",
    "\n",
    "---"
   ]
  },
  {
   "cell_type": "markdown",
   "id": "9402da34",
   "metadata": {},
   "source": [
    "### NumPy: Python 数据科学的基石\n",
    "\n",
    "NumPy (Numerical Python) 是 Python 中用于科学计算的核心库。它不仅是 Pandas、Matplotlib、Scikit-learn 等几乎所有数据科学库的底层依赖，其本身也极为强大。\n",
    "\n",
    "**为什么它如此重要？**\n",
    "\n",
    "1.  **性能**: NumPy 的核心是 `ndarray` (N-dimensional array) 对象，它在底层使用 C 语言实现。向量化计算可以摆脱 Python 解释器的性能瓶颈，速度远超原生列表循环。\n",
    "2.  **功能**: 它提供了大量用于数组操作的函数，涵盖了从线性代数到傅里叶变换再到复杂的随机数生成的各种功能。\n",
    "3.  **简洁**: NumPy 允许你用非常少的代码来表达复杂的数据操作，让代码更易读、更易维护。\n",
    "\n",
    "本章将带你掌握 NumPy 最常用、最重要的核心功能。强烈建议你边读边运行本 Notebook 中的代码。\n",
    "\n",
    "> **有用链接**:\n",
    "> - [NumPy 官方网站](https://numpy.org/)\n",
    "> - [NumPy 官方入门教程](https://numpy.org/doc/stable/user/absolute_beginners.html)"
   ]
  },
  {
   "cell_type": "markdown",
   "id": "b70cb24a",
   "metadata": {},
   "source": [
    "### 准备工作\n",
    "\n",
    "首先导入 NumPy，并创建一个现代的随机数生成器实例。我们还会为本章节创建一个文件与图片输出目录，方便后续保存示例结果。"
   ]
  },
  {
   "cell_type": "code",
   "execution_count": 1,
   "id": "9d80c8fa",
   "metadata": {},
   "outputs": [],
   "source": [
    "import numpy as np\n",
    "from pathlib import Path\n",
    "\n",
    "rng = np.random.default_rng(seed=42)\n",
    "ARTIFACT_DIR = Path(\"artifacts/numpy\")\n",
    "IMAGE_DIR = Path(\"images/numpy\")\n",
    "ARTIFACT_DIR.mkdir(parents=True, exist_ok=True)\n",
    "IMAGE_DIR.mkdir(parents=True, exist_ok=True)"
   ]
  },
  {
   "cell_type": "markdown",
   "id": "5b161b9a",
   "metadata": {},
   "source": [
    "### 一、创建 `ndarray`：构建你的数据块\n",
    "\n",
    "我们处理数据的第一步通常是创建 `ndarray`。你可以从已有数据结构构建数组，也可以生成有规律或随机的矩阵。"
   ]
  },
  {
   "cell_type": "markdown",
   "id": "788e0123",
   "metadata": {},
   "source": [
    "#### 1. 从 Python 列表创建\n",
    "\n",
    "使用 `np.array()` 将列表（或嵌套列表）转换为数组，并指定 `dtype` 来控制数据类型。"
   ]
  },
  {
   "cell_type": "code",
   "execution_count": 2,
   "id": "bbbef6c9",
   "metadata": {},
   "outputs": [
    {
     "name": "stdout",
     "output_type": "stream",
     "text": [
      "从列表创建的数组:\n",
      "[[1. 2. 3.]\n",
      " [4. 5. 6.]]\n"
     ]
    }
   ],
   "source": [
    "list_data = [[1, 2, 3], [4, 5, 6]]\n",
    "a = np.array(list_data, dtype=np.float64)\n",
    "\n",
    "print(\"从列表创建的数组:\")\n",
    "print(a)"
   ]
  },
  {
   "cell_type": "markdown",
   "id": "be9aa3d7",
   "metadata": {},
   "source": [
    "#### 2. 使用内置函数创建占位符数组\n",
    "\n",
    "`np.zeros`, `np.ones`, `np.full` 和 `np.eye` 能快速生成特定形状的占位数组。"
   ]
  },
  {
   "cell_type": "code",
   "execution_count": 4,
   "id": "a10a5508",
   "metadata": {},
   "outputs": [
    {
     "name": "stdout",
     "output_type": "stream",
     "text": [
      "\n",
      "全零数组:\n",
      "[[0. 0. 0.]\n",
      " [0. 0. 0.]]\n",
      "\n",
      "全一数组:\n",
      "[[1. 1. 1.]\n",
      " [1. 1. 1.]]\n",
      "\n",
      "指定值数组:\n",
      "[[7 7 7]\n",
      " [7 7 7]]\n",
      "\n",
      "单位矩阵:\n",
      "[[1. 0. 0.]\n",
      " [0. 1. 0.]\n",
      " [0. 0. 1.]]\n"
     ]
    }
   ],
   "source": [
    "zeros_arr = np.zeros((2, 3))\n",
    "ones_arr = np.ones((2, 3))\n",
    "full_arr = np.full((2, 3), 7)\n",
    "eye_mat = np.eye(3)\n",
    "\n",
    "print(\"\\n全零数组:\")\n",
    "print(zeros_arr)\n",
    "\n",
    "print(\"\\n全一数组:\")\n",
    "print(ones_arr)\n",
    "\n",
    "print(\"\\n指定值数组:\")\n",
    "print(full_arr)\n",
    "\n",
    "print(\"\\n单位矩阵:\")\n",
    "print(eye_mat)"
   ]
  },
  {
   "cell_type": "markdown",
   "id": "f5244d64",
   "metadata": {},
   "source": [
    "#### 3. 创建序列数组\n",
    "\n",
    "`np.arange` 与 `np.linspace` 分别用于按步长和按样本数生成序列。"
   ]
  },
  {
   "cell_type": "code",
   "execution_count": 5,
   "id": "86b94211",
   "metadata": {},
   "outputs": [
    {
     "name": "stdout",
     "output_type": "stream",
     "text": [
      "使用 arange 创建的序列:\n",
      "[0 2 4 6 8]\n",
      "\n",
      "使用 linspace 创建的序列:\n",
      "[0.   0.25 0.5  0.75 1.  ]\n"
     ]
    }
   ],
   "source": [
    "arange_arr = np.arange(0, 10, 2)\n",
    "linspace_arr = np.linspace(0, 1, 5)\n",
    "\n",
    "print(\"使用 arange 创建的序列:\")\n",
    "print(arange_arr)\n",
    "\n",
    "print(\"\\n使用 linspace 创建的序列:\")\n",
    "print(linspace_arr)"
   ]
  },
  {
   "cell_type": "markdown",
   "id": "26e13f20",
   "metadata": {},
   "source": [
    "#### 4. 创建随机数组\n",
    "\n",
    "利用现代随机数生成器 `rng` 获取不同分布的随机数据。"
   ]
  },
  {
   "cell_type": "code",
   "execution_count": 6,
   "id": "aa574327",
   "metadata": {},
   "outputs": [
    {
     "name": "stdout",
     "output_type": "stream",
     "text": [
      "均匀分布随机数组:\n",
      "[[0.77395605 0.43887844 0.85859792]\n",
      " [0.69736803 0.09417735 0.97562235]]\n",
      "\n",
      "标准正态分布随机数组:\n",
      "[[ 0.1278404  -0.31624259 -0.01680116]\n",
      " [-0.85304393  0.87939797  0.77779194]]\n",
      "\n",
      "随机整数数组:\n",
      "[[7 6 4]\n",
      " [8 5 4]]\n"
     ]
    }
   ],
   "source": [
    "rand_arr = rng.random((2, 3))\n",
    "randn_arr = rng.standard_normal((2, 3))\n",
    "randint_arr = rng.integers(0, 10, size=(2, 3))\n",
    "\n",
    "print(\"均匀分布随机数组:\")\n",
    "print(rand_arr)\n",
    "\n",
    "print(\"\\n标准正态分布随机数组:\")\n",
    "print(randn_arr)\n",
    "\n",
    "print(\"\\n随机整数数组:\")\n",
    "print(randint_arr)"
   ]
  },
  {
   "cell_type": "markdown",
   "id": "5449cb03",
   "metadata": {},
   "source": [
    "#### 5. 数组的基本属性\n",
    "\n",
    "数组自带描述性属性，如 `shape`、`dtype`、`ndim` 和 `size`。"
   ]
  },
  {
   "cell_type": "code",
   "execution_count": 7,
   "id": "d6efdabb",
   "metadata": {},
   "outputs": [
    {
     "name": "stdout",
     "output_type": "stream",
     "text": [
      "数组 a 的属性:\n",
      "Shape: (2, 3), DType: float64, NDim: 2, Size: 6\n"
     ]
    }
   ],
   "source": [
    "arr_shape = a.shape\n",
    "arr_dtype = a.dtype\n",
    "arr_ndim = a.ndim\n",
    "arr_size = a.size\n",
    "\n",
    "print(\"数组 a 的属性:\")\n",
    "print(f\"Shape: {arr_shape}, DType: {arr_dtype}, NDim: {arr_ndim}, Size: {arr_size}\")"
   ]
  },
  {
   "cell_type": "markdown",
   "id": "fa569710",
   "metadata": {},
   "source": [
    "### 二、索引与切片：精准获取数据\n",
    "\n",
    "索引让我们能够高效地选取数组的子集，包括基础索引、布尔索引与花式索引。"
   ]
  },
  {
   "cell_type": "code",
   "execution_count": 8,
   "id": "4e2907b8",
   "metadata": {},
   "outputs": [
    {
     "name": "stdout",
     "output_type": "stream",
     "text": [
      "Original Matrix M:\n",
      "[[50 30 18 59 89]\n",
      " [15 87 84 34 66]\n",
      " [24 78 73 41 16]\n",
      " [97 50 90 71 80]]\n"
     ]
    }
   ],
   "source": [
    "M = rng.integers(10, 100, size=(4, 5))\n",
    "print(f\"Original Matrix M:\\n{M}\")"
   ]
  },
  {
   "cell_type": "markdown",
   "id": "b485b2f6",
   "metadata": {},
   "source": [
    "#### 1. 基础索引与切片\n",
    "\n",
    "使用 `[row, col]` 访问单个元素，使用切片语法获取子数组。基础切片返回视图，修改视图会影响原数组。"
   ]
  },
  {
   "cell_type": "code",
   "execution_count": 9,
   "id": "03dd6b80",
   "metadata": {},
   "outputs": [
    {
     "name": "stdout",
     "output_type": "stream",
     "text": [
      "Element at (0, 1): 30\n",
      "\n",
      "Sub-array (a view):\n",
      "[[84 34]\n",
      " [73 41]]\n",
      "\n",
      "Original M after modifying view:\n",
      "[[ 50  30  18  59  89]\n",
      " [ 15  87 999  34  66]\n",
      " [ 24  78  73  41  16]\n",
      " [ 97  50  90  71  80]]\n",
      "\n",
      "Original M after modifying copy:\n",
      "[[ 50  30  18  59  89]\n",
      " [ 15  87 999  34  66]\n",
      " [ 24  78  73  41  16]\n",
      " [ 97  50  90  71  80]]\n"
     ]
    }
   ],
   "source": [
    "element = M[0, 1]\n",
    "print(f\"Element at (0, 1): {element}\")\n",
    "\n",
    "sub_array = M[1:3, 2:4]\n",
    "print(f\"\\nSub-array (a view):\\n{sub_array}\")\n",
    "\n",
    "sub_array[0, 0] = 999\n",
    "print(f\"\\nOriginal M after modifying view:\\n{M}\")\n",
    "\n",
    "sub_copy = M[1:3, 2:4].copy()\n",
    "sub_copy[0, 0] = 111\n",
    "print(f\"\\nOriginal M after modifying copy:\\n{M}\")"
   ]
  },
  {
   "cell_type": "markdown",
   "id": "37804640",
   "metadata": {},
   "source": [
    "#### 2. 布尔索引\n",
    "\n",
    "使用布尔条件筛选满足要求的元素，可以组合多个条件形成复合筛选。"
   ]
  },
  {
   "cell_type": "code",
   "execution_count": 10,
   "id": "53727bab",
   "metadata": {},
   "outputs": [
    {
     "name": "stdout",
     "output_type": "stream",
     "text": [
      "Boolean Mask (M > 50):\n",
      "[[False False False  True  True]\n",
      " [False  True  True False  True]\n",
      " [False  True  True False False]\n",
      " [ True False  True  True  True]]\n",
      "\n",
      "Elements > 50: [ 59  89  87 999  66  78  73  97  90  71  80]\n",
      "\n",
      "Elements between 30 and 70: [50 59 34 66 41 50]\n"
     ]
    }
   ],
   "source": [
    "bool_mask = M > 50\n",
    "print(f\"Boolean Mask (M > 50):\\n{bool_mask}\")\n",
    "\n",
    "elements_gt_50 = M[bool_mask]\n",
    "print(f\"\\nElements > 50: {elements_gt_50}\")\n",
    "\n",
    "combined_mask = (M > 30) & (M < 70)\n",
    "elements_between_30_and_70 = M[combined_mask]\n",
    "print(f\"\\nElements between 30 and 70: {elements_between_30_and_70}\")"
   ]
  },
  {
   "cell_type": "markdown",
   "id": "fc54c821",
   "metadata": {},
   "source": [
    "#### 3. 花式索引 (Fancy Indexing)\n",
    "\n",
    "通过整数数组或列表指定复杂的行列组合。"
   ]
  },
  {
   "cell_type": "code",
   "execution_count": 11,
   "id": "007f3ef1",
   "metadata": {},
   "outputs": [
    {
     "name": "stdout",
     "output_type": "stream",
     "text": [
      "Rows 0, 3, 1 in that order:\n",
      "[[ 50  30  18  59  89]\n",
      " [ 97  50  90  71  80]\n",
      " [ 15  87 999  34  66]]\n",
      "\n",
      "Specific elements at (0,1), (1,3), (2,0): [30 34 24]\n"
     ]
    }
   ],
   "source": [
    "fancy_rows = M[[0, 3, 1]]\n",
    "print(f\"Rows 0, 3, 1 in that order:\\n{fancy_rows}\")\n",
    "\n",
    "specific_elements = M[[0, 1, 2], [1, 3, 0]]\n",
    "print(f\"\\nSpecific elements at (0,1), (1,3), (2,0): {specific_elements}\")"
   ]
  },
  {
   "cell_type": "markdown",
   "id": "2667a974",
   "metadata": {},
   "source": [
    "### 三、核心数组操作\n",
    "\n",
    "掌握形状变换、拼接、排序、广播和矩阵乘法，为后续的线性代数与数据处理做好准备。"
   ]
  },
  {
   "cell_type": "markdown",
   "id": "21122077",
   "metadata": {},
   "source": [
    "#### 1. 形状变换\n",
    "\n",
    "`reshape`, `ravel`, `flatten`, `.T` 与 `np.newaxis` 可以重新组织数组结构。"
   ]
  },
  {
   "cell_type": "code",
   "execution_count": 12,
   "id": "ac7a94a8",
   "metadata": {},
   "outputs": [
    {
     "name": "stdout",
     "output_type": "stream",
     "text": [
      "Original 1D data: [ 0  1  2  3  4  5  6  7  8  9 10 11]\n",
      "\n",
      "Reshaped to 3x4:\n",
      "[[ 0  1  2  3]\n",
      " [ 4  5  6  7]\n",
      " [ 8  9 10 11]]\n",
      "\n",
      "Raveled (view): [100   1   2   3   4   5   6   7   8   9  10  11]\n",
      "Original reshaped array was changed: \n",
      "[[100   1   2   3]\n",
      " [  4   5   6   7]\n",
      " [  8   9  10  11]]\n",
      "\n",
      "Flattened (copy): [100 200   2   3   4   5   6   7   8   9  10  11]\n",
      "Original reshaped array was NOT changed: \n",
      "[[100   1   2   3]\n",
      " [  4   5   6   7]\n",
      " [  8   9  10  11]]\n",
      "\n",
      "Transposed array (4x3):\n",
      "[[100   4   8]\n",
      " [  1   5   9]\n",
      " [  2   6  10]\n",
      " [  3   7  11]]\n",
      "\n",
      "Original vector (shape (4,)): [0 1 2 3]\n",
      "Column vector (shape (4, 1)):\n",
      "[[0]\n",
      " [1]\n",
      " [2]\n",
      " [3]]\n",
      "Row vector (shape (1, 4)):\n",
      "[[0 1 2 3]]\n"
     ]
    }
   ],
   "source": [
    "data = np.arange(12)\n",
    "print(f\"Original 1D data: {data}\")\n",
    "\n",
    "reshaped = data.reshape(3, 4)\n",
    "print(f\"\\nReshaped to 3x4:\\n{reshaped}\")\n",
    "\n",
    "raveled_view = reshaped.ravel()\n",
    "raveled_view[0] = 100\n",
    "print(f\"\\nRaveled (view): {raveled_view}\")\n",
    "print(f\"Original reshaped array was changed: \\n{reshaped}\")\n",
    "\n",
    "flattened_copy = reshaped.flatten()\n",
    "flattened_copy[1] = 200\n",
    "print(f\"\\nFlattened (copy): {flattened_copy}\")\n",
    "print(f\"Original reshaped array was NOT changed: \\n{reshaped}\")\n",
    "\n",
    "transposed = reshaped.T\n",
    "print(f\"\\nTransposed array (4x3):\\n{transposed}\")\n",
    "\n",
    "vec = np.arange(4)\n",
    "col_vec = vec[:, np.newaxis]\n",
    "row_vec = vec[np.newaxis, :]\n",
    "print(f\"\\nOriginal vector (shape {vec.shape}): {vec}\")\n",
    "print(f\"Column vector (shape {col_vec.shape}):\\n{col_vec}\")\n",
    "print(f\"Row vector (shape {row_vec.shape}):\\n{row_vec}\")"
   ]
  },
  {
   "cell_type": "markdown",
   "id": "3f45a7cf",
   "metadata": {},
   "source": [
    "#### 2. 数组拼接\n",
    "\n",
    "`np.vstack` 与 `np.hstack` 帮助我们在行或列方向拼接数组。"
   ]
  },
  {
   "cell_type": "code",
   "execution_count": 13,
   "id": "e0814ebc",
   "metadata": {},
   "outputs": [
    {
     "name": "stdout",
     "output_type": "stream",
     "text": [
      "Vertical Stack:\n",
      "[[1. 1. 1.]\n",
      " [1. 1. 1.]\n",
      " [0. 0. 0.]\n",
      " [0. 0. 0.]]\n",
      "\n",
      "Horizontal Stack:\n",
      "[[1. 1. 1. 0. 0. 0.]\n",
      " [1. 1. 1. 0. 0. 0.]]\n"
     ]
    }
   ],
   "source": [
    "A = np.ones((2, 3))\n",
    "B = np.zeros((2, 3))\n",
    "\n",
    "v_stack = np.vstack((A, B))\n",
    "h_stack = np.hstack((A, B))\n",
    "\n",
    "print(f\"Vertical Stack:\\n{v_stack}\")\n",
    "print(f\"\\nHorizontal Stack:\\n{h_stack}\")"
   ]
  },
  {
   "cell_type": "markdown",
   "id": "667fcebe",
   "metadata": {},
   "source": [
    "#### 3. 数组排序\n",
    "\n",
    "- `np.sort(a, axis=-1)`: 返回排序后的拷贝，`axis` 控制沿哪个轴排序（设为 `None` 时会展平成一维）。\n",
    "\n",
    "- `ndarray.sort(axis=-1)`: 原地排序方法，直接修改数组本身，`axis` 的含义与 `np.sort` 相同。"
   ]
  },
  {
   "cell_type": "code",
   "execution_count": null,
   "id": "d0202f82",
   "metadata": {},
   "outputs": [
    {
     "name": "stdout",
     "output_type": "stream",
     "text": [
      "Unsorted data: [75 19 36 46 49  4 54 15 74 68]\n",
      "Sorted copy:   [ 4 15 19 36 46 49 54 68 74 75]\n",
      "Original data is unchanged: [75 19 36 46 49  4 54 15 74 68]\n",
      "Data sorted in-place: [ 4 15 19 36 46 49 54 68 74 75]\n"
     ]
    }
   ],
   "source": [
    "data = rng.integers(0, 100, size=10)\n",
    "print(f\"Unsorted data: {data}\")\n",
    "\n",
    "sorted_copy = np.sort(data)\n",
    "print(f\"Sorted copy:   {sorted_copy}\")\n",
    "print(f\"Original data is unchanged: {data}\")\n",
    "\n",
    "data.sort()\n",
    "print(f\"Data sorted in-place: {data}\")\n",
    "\n",
    "matrix = rng.integers(0, 50, size=(2, 4))\n",
    "print(f\"\\nOriginal matrix:\\n{matrix}\")\n",
    "\n",
    "sorted_rows = np.sort(matrix, axis=1)\n",
    "print(f\"Sorted along rows (axis=1):\\n{sorted_rows}\")\n",
    "\n",
    "matrix_column_sort = matrix.copy()\n",
    "matrix_column_sort.sort(axis=0)\n",
    "print(f\"Sorted in-place along columns (axis=0):\\n{matrix_column_sort}\")"
   ]
  },
  {
   "cell_type": "markdown",
   "id": "33a0e266",
   "metadata": {},
   "source": [
    "#### 4. 广播 (Broadcasting)\n",
    "\n",
    "利用 `np.broadcast_to` 将较小数组显式扩展到目标形状，便于与大数组进行逐元素运算。"
   ]
  },
  {
   "cell_type": "code",
   "execution_count": null,
   "id": "77a25521",
   "metadata": {},
   "outputs": [
    {
     "name": "stdout",
     "output_type": "stream",
     "text": [
      "Matrix X:\n",
      " [[1. 1. 1.]\n",
      " [1. 1. 1.]\n",
      " [1. 1. 1.]] \n",
      "\n",
      "Vector v (1D): [10 20 30]\n",
      "\n",
      " Broadcasting example: X + v \n",
      "\n",
      "Broadcasting a vector to each row:\n",
      "[[11. 21. 31.]\n",
      " [11. 21. 31.]\n",
      " [11. 21. 31.]]\n"
     ]
    }
   ],
   "source": [
    "X = np.ones((3, 3))\n",
    "v = np.array([10, 20, 30])\n",
    "\n",
    "v_broadcasted = np.broadcast_to(v, X.shape)\n",
    "\n",
    "print(f\"Matrix X:\\n{X}\\n\")\n",
    "print(f\"Vector v (1D): {v}\")\n",
    "print(f\"Broadcasted view:\\n{v_broadcasted}\\n\")\n",
    "\n",
    "Y = X + v_broadcasted\n",
    "print(\"Broadcasting example: X + broadcasted v\\n\")\n",
    "print(f\"Broadcasting a vector to each row:\\n{Y}\")"
   ]
  },
  {
   "cell_type": "markdown",
   "id": "5b0602c3",
   "metadata": {},
   "source": [
    "#### 5. 矩阵乘法\n",
    "\n",
    "使用 `np.matmul`（或 `@` 运算符）执行标准矩阵乘法。"
   ]
  },
  {
   "cell_type": "code",
   "execution_count": null,
   "id": "fab67faa",
   "metadata": {},
   "outputs": [
    {
     "name": "stdout",
     "output_type": "stream",
     "text": [
      "Matrix A (2x3):\n",
      "[[0 1 2]\n",
      " [3 4 5]]\n",
      "\n",
      "Matrix B (3x2):\n",
      "[[0 1]\n",
      " [2 3]\n",
      " [4 5]]\n",
      "\n",
      "Matrix Product A @ B (2x2):\n",
      "[[10 13]\n",
      " [28 40]]\n"
     ]
    }
   ],
   "source": [
    "mat_A = np.arange(6).reshape(2, 3)\n",
    "mat_B = np.arange(6).reshape(3, 2)\n",
    "print(f\"Matrix A (2x3):\\n{mat_A}\")\n",
    "print(f\"\\nMatrix B (3x2):\\n{mat_B}\")\n",
    "\n",
    "mat_product = np.matmul(mat_A, mat_B)\n",
    "print(f\"\\nMatrix Product A @ B (2x2):\\n{mat_product}\")"
   ]
  },
  {
   "cell_type": "markdown",
   "id": "f0938265",
   "metadata": {},
   "source": [
    "### 四、通用函数 (ufunc) 与统计\n",
    "\n",
    "充分利用向量化运算、描述性统计和条件化赋值，加速数据处理流程。"
   ]
  },
  {
   "cell_type": "markdown",
   "id": "3ad27de8",
   "metadata": {},
   "source": [
    "#### 1. 向量化运算 (ufuncs)\n",
    "\n",
    "在整个数组上调用 ufunc，比手写循环更高效。"
   ]
  },
  {
   "cell_type": "code",
   "execution_count": null,
   "id": "8e1d2c07",
   "metadata": {},
   "outputs": [
    {
     "name": "stdout",
     "output_type": "stream",
     "text": [
      "Original data: [1 2 3 4 5]\n",
      "Add 10: [11 12 13 14 15]\n",
      "Square root: [1.         1.41421356 1.73205081 2.         2.23606798]\n",
      "Sine: [ 0.84147098  0.90929743  0.14112001 -0.7568025  -0.95892427]\n"
     ]
    }
   ],
   "source": [
    "data = np.arange(1, 6)\n",
    "print(f\"Original data: {data}\")\n",
    "\n",
    "data_plus_10 = np.add(data, 10)\n",
    "print(f\"Add 10: {data_plus_10}\")\n",
    "\n",
    "sqrt_data = np.sqrt(data)\n",
    "print(f\"Square root: {sqrt_data}\")\n",
    "\n",
    "sin_data = np.sin(data)\n",
    "print(f\"Sine: {sin_data}\")"
   ]
  },
  {
   "cell_type": "markdown",
   "id": "206474ec",
   "metadata": {},
   "source": [
    "#### 2. 描述性统计与 `axis` 参数\n",
    "\n",
    "`axis` 指定沿哪个维度聚合，常用于按行或按列计算统计量。"
   ]
  },
  {
   "cell_type": "code",
   "execution_count": null,
   "id": "85cecf81",
   "metadata": {},
   "outputs": [
    {
     "name": "stdout",
     "output_type": "stream",
     "text": [
      "Data:\n",
      "[[9 7 3 9 4]\n",
      " [3 9 3 0 4]\n",
      " [7 1 4 1 6]]\n",
      "Overall sum (axis=None): 70\n",
      "Sum of each column (axis=0): [19 17 10 10 14]\n",
      "Mean of each row (axis=1): [6.4 3.8 3.8]\n"
     ]
    }
   ],
   "source": [
    "data = rng.integers(0, 10, size=(3, 5))\n",
    "print(f\"Data:\\n{data}\")\n",
    "\n",
    "total_sum = np.sum(data)\n",
    "print(f\"Overall sum (axis=None): {total_sum}\")\n",
    "\n",
    "col_sums = np.sum(data, axis=0)\n",
    "print(f\"Sum of each column (axis=0): {col_sums}\")\n",
    "\n",
    "row_means = np.mean(data, axis=1)\n",
    "print(f\"Mean of each row (axis=1): {row_means}\")"
   ]
  },
  {
   "cell_type": "markdown",
   "id": "97d5e371",
   "metadata": {},
   "source": [
    "#### 3. 条件化操作 `np.where()`\n",
    "\n",
    "`np.where` 是向量化的条件赋值工具，可替代繁琐的循环判断。"
   ]
  },
  {
   "cell_type": "code",
   "execution_count": 20,
   "id": "c10b694a",
   "metadata": {},
   "outputs": [
    {
     "name": "stdout",
     "output_type": "stream",
     "text": [
      "Original conditional data:\n",
      "[[-0.82448122  0.65059279  0.74325417  0.54315427]\n",
      " [-0.66550971  0.23216132  0.11668581  0.2186886 ]\n",
      " [ 0.87142878  0.22359555  0.67891356  0.06757907]]\n",
      "\n",
      "Result after np.where(cond_data > 0, 1, -1):\n",
      "[[-1  1  1  1]\n",
      " [-1  1  1  1]\n",
      " [ 1  1  1  1]]\n"
     ]
    }
   ],
   "source": [
    "cond_data = rng.standard_normal((3, 4))\n",
    "print(f\"Original conditional data:\\n{cond_data}\")\n",
    "\n",
    "where_result = np.where(cond_data > 0, 1, -1)\n",
    "print(f\"\\nResult after np.where(cond_data > 0, 1, -1):\\n{where_result}\")"
   ]
  },
  {
   "cell_type": "markdown",
   "id": "ec770fc6",
   "metadata": {},
   "source": [
    "#### 4. 唯一值与集合操作\n",
    "\n",
    "使用 `np.unique`、`np.in1d` 进行集合操作，筛选或比较数据。"
   ]
  },
  {
   "cell_type": "code",
   "execution_count": 21,
   "id": "b1bf980b",
   "metadata": {},
   "outputs": [
    {
     "name": "stdout",
     "output_type": "stream",
     "text": [
      "Original data with duplicates: [1 2 1 3 5 2 1 1 5]\n",
      "Unique values: [1 2 3 5]\n",
      "\n",
      "Is element in [2, 3, 4]? [False  True False  True False  True False False False]\n",
      "Elements found in [2, 3, 4]: [2 3 2]\n"
     ]
    }
   ],
   "source": [
    "data_with_dupes = np.array([1, 2, 1, 3, 5, 2, 1, 1, 5])\n",
    "print(f\"Original data with duplicates: {data_with_dupes}\")\n",
    "\n",
    "unique_values = np.unique(data_with_dupes)\n",
    "print(f\"Unique values: {unique_values}\")\n",
    "\n",
    "values_to_check = [2, 3, 4]\n",
    "membership_mask = np.in1d(data_with_dupes, values_to_check)\n",
    "print(f\"\\nIs element in {values_to_check}? {membership_mask}\")\n",
    "\n",
    "elements_found = data_with_dupes[membership_mask]\n",
    "print(f\"Elements found in {values_to_check}: {elements_found}\")"
   ]
  },
  {
   "cell_type": "markdown",
   "id": "1a5c61d4",
   "metadata": {},
   "source": [
    "### 五、保存与加载数组\n",
    "\n",
    "利用 NumPy 原生的 `.npy` 与 `.npz` 格式高效持久化数组。"
   ]
  },
  {
   "cell_type": "code",
   "execution_count": 22,
   "id": "fec0bc1e",
   "metadata": {},
   "outputs": [
    {
     "name": "stdout",
     "output_type": "stream",
     "text": [
      "Array M saved to artifacts\\numpy\\my_array.npy\n"
     ]
    }
   ],
   "source": [
    "array_path = ARTIFACT_DIR / \"my_array.npy\"\n",
    "np.save(array_path, M)\n",
    "print(f\"Array M saved to {array_path}\")"
   ]
  },
  {
   "cell_type": "code",
   "execution_count": 23,
   "id": "0fc13cdb",
   "metadata": {},
   "outputs": [
    {
     "name": "stdout",
     "output_type": "stream",
     "text": [
      "Array loaded from my_array.npy:\n",
      "[[ 50  30  18  59  89]\n",
      " [ 15  87 999  34  66]\n",
      " [ 24  78  73  41  16]\n",
      " [ 97  50  90  71  80]]\n"
     ]
    }
   ],
   "source": [
    "loaded_M = np.load(array_path)\n",
    "print(\"Array loaded from my_array.npy:\")\n",
    "print(loaded_M)"
   ]
  },
  {
   "cell_type": "code",
   "execution_count": 24,
   "id": "f0aa336d",
   "metadata": {},
   "outputs": [
    {
     "name": "stdout",
     "output_type": "stream",
     "text": [
      "Arrays X and Y saved to artifacts\\numpy\\my_arrays.npz\n",
      "Loaded array_x from .npz file:\n",
      "[[1. 1. 1.]\n",
      " [1. 1. 1.]\n",
      " [1. 1. 1.]]\n"
     ]
    }
   ],
   "source": [
    "arrays_path = ARTIFACT_DIR / \"my_arrays.npz\"\n",
    "np.savez(arrays_path, array_x=X, array_y=Y)\n",
    "print(f\"Arrays X and Y saved to {arrays_path}\")\n",
    "\n",
    "loaded_data = np.load(arrays_path)\n",
    "print(\"Loaded array_x from .npz file:\")\n",
    "print(loaded_data['array_x'])"
   ]
  },
  {
   "cell_type": "markdown",
   "id": "b5e8ec9e",
   "metadata": {},
   "source": [
    "---\n",
    "**实践小结**: 通过本 Notebook，你已经掌握了 NumPy 数组的创建、索引、核心操作与持久化。重点理解视图与拷贝的区别、广播原理以及 `axis` 参数的作用。接下来你可以继续学习 Pandas，进一步处理表格数据。"
   ]
  }
 ],
 "metadata": {
  "kernelspec": {
   "display_name": "base",
   "language": "python",
   "name": "python3"
  },
  "language_info": {
   "codemirror_mode": {
    "name": "ipython",
    "version": 3
   },
   "file_extension": ".py",
   "mimetype": "text/x-python",
   "name": "python",
   "nbconvert_exporter": "python",
   "pygments_lexer": "ipython3",
   "version": "3.11.7"
  }
 },
 "nbformat": 4,
 "nbformat_minor": 5
}
